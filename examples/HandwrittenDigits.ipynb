{
 "cells": [
  {
   "cell_type": "markdown",
   "metadata": {},
   "source": [
    "In this example we will see how to train a SOM to create a map of hand-written digits using the <a href=\"https://archive.ics.uci.edu/ml/datasets/Optical+Recognition+of+Handwritten+Digits\">UCI ML hand-written digits datasets</a>.\n",
    "\n",
    "First, we'll 1) load the data using the sklearn wrapper, 2) scale the data, 3) train the som."
   ]
  },
  {
   "cell_type": "code",
   "execution_count": 1,
   "metadata": {},
   "outputs": [
    {
     "name": "stdout",
     "output_type": "stream",
     "text": [
      " [ 5000 / 5000 ] 100% - 0:00:00 left "
     ]
    },
    {
     "ename": "RuntimeError",
     "evalue": "expected scalar type Double but found Float",
     "output_type": "error",
     "traceback": [
      "\u001b[0;31m---------------------------------------------------------------------------\u001b[0m",
      "\u001b[0;31mRuntimeError\u001b[0m                              Traceback (most recent call last)",
      "Cell \u001b[0;32mIn[1], line 20\u001b[0m\n\u001b[1;32m     17\u001b[0m som \u001b[39m=\u001b[39m MiniSom(\u001b[39m30\u001b[39m, \u001b[39m30\u001b[39m, \u001b[39m64\u001b[39m, sigma\u001b[39m=\u001b[39m\u001b[39m4\u001b[39m,\n\u001b[1;32m     18\u001b[0m               learning_rate\u001b[39m=\u001b[39m\u001b[39m0.5\u001b[39m, neighborhood_function\u001b[39m=\u001b[39m\u001b[39m'\u001b[39m\u001b[39mtriangle\u001b[39m\u001b[39m'\u001b[39m)\n\u001b[1;32m     19\u001b[0m som\u001b[39m.\u001b[39mpca_weights_init(data)\n\u001b[0;32m---> 20\u001b[0m som\u001b[39m.\u001b[39;49mtrain(data, \u001b[39m5000\u001b[39;49m, random_order\u001b[39m=\u001b[39;49m\u001b[39mTrue\u001b[39;49;00m, verbose\u001b[39m=\u001b[39;49m\u001b[39mTrue\u001b[39;49;00m)\n",
      "File \u001b[0;32m/work/minisom.py:420\u001b[0m, in \u001b[0;36mMiniSom.train\u001b[0;34m(self, data, num_iteration, random_order, verbose, use_epochs)\u001b[0m\n\u001b[1;32m    417\u001b[0m     \u001b[39mself\u001b[39m\u001b[39m.\u001b[39mupdate(data[iteration], \u001b[39mself\u001b[39m\u001b[39m.\u001b[39mwinner(data[iteration]),\n\u001b[1;32m    418\u001b[0m                 decay_rate, num_iteration)\n\u001b[1;32m    419\u001b[0m \u001b[39mif\u001b[39;00m verbose:\n\u001b[0;32m--> 420\u001b[0m     \u001b[39mprint\u001b[39m(\u001b[39m'\u001b[39m\u001b[39m\\n\u001b[39;00m\u001b[39m quantization error:\u001b[39m\u001b[39m'\u001b[39m, \u001b[39mself\u001b[39;49m\u001b[39m.\u001b[39;49mquantization_error(data))\n",
      "File \u001b[0;32m/work/minisom.py:528\u001b[0m, in \u001b[0;36mMiniSom.quantization_error\u001b[0;34m(self, data)\u001b[0m\n\u001b[1;32m    525\u001b[0m \u001b[39m\u001b[39m\u001b[39m\"\"\"Returns the quantization error computed as the average\u001b[39;00m\n\u001b[1;32m    526\u001b[0m \u001b[39mdistance between each input sample and its best matching unit.\"\"\"\u001b[39;00m\n\u001b[1;32m    527\u001b[0m \u001b[39mself\u001b[39m\u001b[39m.\u001b[39m_check_input_len(data)\n\u001b[0;32m--> 528\u001b[0m \u001b[39mreturn\u001b[39;00m torch\u001b[39m.\u001b[39mlinalg\u001b[39m.\u001b[39mnorm(data\u001b[39m-\u001b[39m\u001b[39mself\u001b[39;49m\u001b[39m.\u001b[39;49mquantization(data), axis\u001b[39m=\u001b[39m\u001b[39m1\u001b[39m)\u001b[39m.\u001b[39mmean()\n",
      "File \u001b[0;32m/work/minisom.py:335\u001b[0m, in \u001b[0;36mMiniSom.quantization\u001b[0;34m(self, data)\u001b[0m\n\u001b[1;32m    332\u001b[0m \u001b[39m\u001b[39m\u001b[39m\"\"\"Assigns a code book (weights vector of the winning neuron)\u001b[39;00m\n\u001b[1;32m    333\u001b[0m \u001b[39mto each sample in data.\"\"\"\u001b[39;00m\n\u001b[1;32m    334\u001b[0m \u001b[39mself\u001b[39m\u001b[39m.\u001b[39m_check_input_len(data)\n\u001b[0;32m--> 335\u001b[0m winners_coords \u001b[39m=\u001b[39m torch\u001b[39m.\u001b[39margmin(\u001b[39mself\u001b[39;49m\u001b[39m.\u001b[39;49m_distance_from_weights(data), dim\u001b[39m=\u001b[39m\u001b[39m1\u001b[39m)\n\u001b[1;32m    336\u001b[0m \u001b[39mreturn\u001b[39;00m \u001b[39mself\u001b[39m\u001b[39m.\u001b[39m_weights[unravel_index(winners_coords,\n\u001b[1;32m    337\u001b[0m                                    \u001b[39mself\u001b[39m\u001b[39m.\u001b[39m_weights\u001b[39m.\u001b[39mshape[:\u001b[39m2\u001b[39m])]\n",
      "File \u001b[0;32m/work/minisom.py:521\u001b[0m, in \u001b[0;36mMiniSom._distance_from_weights\u001b[0;34m(self, data)\u001b[0m\n\u001b[1;32m    519\u001b[0m input_data_sq \u001b[39m=\u001b[39m torch\u001b[39m.\u001b[39mpow(data, \u001b[39m2\u001b[39m)\u001b[39m.\u001b[39msum(axis\u001b[39m=\u001b[39m\u001b[39m1\u001b[39m, keepdims\u001b[39m=\u001b[39m\u001b[39mTrue\u001b[39;00m)\n\u001b[1;32m    520\u001b[0m weights_flat_sq \u001b[39m=\u001b[39m torch\u001b[39m.\u001b[39mpow(weights_flat, \u001b[39m2\u001b[39m)\u001b[39m.\u001b[39msum(axis\u001b[39m=\u001b[39m\u001b[39m1\u001b[39m, keepdims\u001b[39m=\u001b[39m\u001b[39mTrue\u001b[39;00m)\n\u001b[0;32m--> 521\u001b[0m cross_term \u001b[39m=\u001b[39m torch\u001b[39m.\u001b[39;49mmm(data, weights_flat\u001b[39m.\u001b[39;49mT)\n\u001b[1;32m    522\u001b[0m \u001b[39mreturn\u001b[39;00m torch\u001b[39m.\u001b[39msqrt(\u001b[39m-\u001b[39m\u001b[39m2\u001b[39m \u001b[39m*\u001b[39m cross_term \u001b[39m+\u001b[39m input_data_sq \u001b[39m+\u001b[39m weights_flat_sq\u001b[39m.\u001b[39mT)\n",
      "\u001b[0;31mRuntimeError\u001b[0m: expected scalar type Double but found Float"
     ]
    }
   ],
   "source": [
    "from minisom import MiniSom\n",
    "\n",
    "import numpy as np\n",
    "import torch\n",
    "import matplotlib.pyplot as plt\n",
    "%matplotlib inline\n",
    "\n",
    "from sklearn import datasets\n",
    "from sklearn.preprocessing import scale\n",
    "\n",
    "# load the digits dataset from scikit-learn\n",
    "digits = datasets.load_digits(n_class=10)\n",
    "data = digits.data  # matrix where each row is a vector that represent a digit.\n",
    "data = torch.tensor(scale(data), dtype=torch.float32)\n",
    "num = digits.target  # num[i] is the digit represented by data[i]\n",
    "\n",
    "som = MiniSom(30, 30, 64, sigma=4,\n",
    "              learning_rate=0.5, neighborhood_function='triangle')\n",
    "som.pca_weights_init(data)\n",
    "som.train(data, 5000, random_order=True, verbose=True)  # random training"
   ]
  },
  {
   "cell_type": "markdown",
   "metadata": {},
   "source": [
    "Not that each input vector for the SOM represents the entire image obtained reshaping the original image of dimension 8-by-8 into a vector of 64 elements. The images in input are gray scale.\n",
    "\n",
    "We can now place each digit on the map represented by the SOM:"
   ]
  },
  {
   "cell_type": "code",
   "execution_count": null,
   "metadata": {},
   "outputs": [],
   "source": [
    "plt.figure(figsize=(8, 8))\n",
    "wmap = {}\n",
    "im = 0\n",
    "for x, t in zip(data, num):  # scatterplot\n",
    "    w = som.winner(x)\n",
    "    wmap[w] = im\n",
    "    plt. text(w[0]+.5,  w[1]+.5,  str(t),\n",
    "              color=plt.cm.rainbow(t / 10.), fontdict={'weight': 'bold',  'size': 11})\n",
    "    im = im + 1\n",
    "plt.axis([0, som.get_weights().shape[0], 0,  som.get_weights().shape[1]])\n",
    "plt.savefig('resulting_images/som_digts.png')\n",
    "plt.show()"
   ]
  },
  {
   "cell_type": "code",
   "execution_count": null,
   "metadata": {},
   "outputs": [],
   "source": [
    "plt.figure(figsize=(10, 10), facecolor='white')\n",
    "cnt = 0\n",
    "for j in reversed(range(20)):  # images mosaic\n",
    "    for i in range(20):\n",
    "        plt.subplot(20, 20, cnt+1, frameon=False,  xticks=[],  yticks=[])\n",
    "        if (i, j) in wmap:\n",
    "            plt.imshow(digits.images[wmap[(i, j)]],\n",
    "                       cmap='Greys', interpolation='nearest')\n",
    "        else:\n",
    "            plt.imshow(np.zeros((8, 8)),  cmap='Greys')\n",
    "        cnt = cnt + 1\n",
    "\n",
    "plt.tight_layout()\n",
    "plt.savefig('resulting_images/som_digts_imgs.png')\n",
    "plt.show()"
   ]
  }
 ],
 "metadata": {
  "kernelspec": {
   "display_name": "Python 3",
   "language": "python",
   "name": "python3"
  },
  "language_info": {
   "codemirror_mode": {
    "name": "ipython",
    "version": 3
   },
   "file_extension": ".py",
   "mimetype": "text/x-python",
   "name": "python",
   "nbconvert_exporter": "python",
   "pygments_lexer": "ipython3",
   "version": "3.10.11"
  }
 },
 "nbformat": 4,
 "nbformat_minor": 4
}
