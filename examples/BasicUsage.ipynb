{
 "cells": [
  {
   "cell_type": "markdown",
   "metadata": {},
   "source": [
    "In this notebook we will see the basics of how to use MiniSom.\n",
    "\n",
    "Let's start importing MiniSom:"
   ]
  },
  {
   "cell_type": "code",
   "execution_count": null,
   "metadata": {},
   "outputs": [],
   "source": [
    "from minisom_gpu.som import MiniSom\n",
    "import torch\n",
    "import matplotlib\n",
    "device_name = 'cuda'\n",
    "device = torch.device(device_name)"
   ]
  },
  {
   "cell_type": "markdown",
   "metadata": {},
   "source": [
    "MiniSom relies on the Python ecosystem to import and preprocess the data. For this example we will load the <a href=\"https://archive.ics.uci.edu/ml/datasets/seeds\">seeds</a> dataset dataset using pandas:"
   ]
  },
  {
   "cell_type": "code",
   "execution_count": null,
   "metadata": {},
   "outputs": [],
   "source": [
    "import pandas as pd\n",
    "import numpy as np\n",
    "columns=['area', 'perimeter', 'compactness', 'length_kernel', 'width_kernel',\n",
    "                   'asymmetry_coefficient', 'length_kernel_groove', 'target']\n",
    "data = pd.read_csv('https://archive.ics.uci.edu/ml/machine-learning-databases/00236/seeds_dataset.txt', \n",
    "                    names=columns, \n",
    "                   sep='\\t+', engine='python')\n",
    "target = data['target'].values\n",
    "label_names = {1:'Kama', 2:'Rosa', 3:'Canadian'}\n",
    "data = data[data.columns[:-1]]\n",
    "# data normalization\n",
    "data = (data - np.mean(data, axis=0)) / np.std(data, axis=0)\n",
    "data = torch.tensor(data.values, dtype=torch.float32, device=device)"
   ]
  },
  {
   "cell_type": "markdown",
   "metadata": {},
   "source": [
    "We can initialize and train MiniSom as follows:"
   ]
  },
  {
   "cell_type": "code",
   "execution_count": null,
   "metadata": {},
   "outputs": [],
   "source": [
    "# Initialization and training\n",
    "n_neurons = 9\n",
    "m_neurons = 9\n",
    "som = MiniSom(n_neurons, m_neurons, data.shape[1], sigma=1.5, learning_rate=.5, \n",
    "              neighborhood_function='gaussian', random_seed=0, device=device)\n",
    "\n",
    "som.pca_weights_init(data.to(device))\n",
    "som.train(data, 20, verbose=False, use_epochs=True)  # random training"
   ]
  },
  {
   "cell_type": "markdown",
   "metadata": {},
   "source": [
    "To visualize the result of the training we can plot the distance map (U-Matrix) using a pseudocolor where the neurons of the maps are displayed as an array of cells and the color represents the (weights) distance from the neighbour neurons. On top of the pseudo color we can add markers that repesent the samples mapped in the specific cells:"
   ]
  },
  {
   "cell_type": "code",
   "execution_count": null,
   "metadata": {},
   "outputs": [],
   "source": [
    "import matplotlib.pyplot as plt\n",
    "%matplotlib inline\n",
    "\n",
    "plt.figure(figsize=(9, 9))\n",
    "\n",
    "plt.pcolor(som.distance_map().T.cpu(), cmap='bone_r')  # plotting the distance map as background\n",
    "plt.colorbar()\n",
    "\n",
    "# Plotting the response for each pattern in the iris dataset\n",
    "# different colors and markers for each label\n",
    "markers = ['o', 's', 'D']\n",
    "colors = ['C0', 'C1', 'C2']\n",
    "for cnt, xx in enumerate(data):\n",
    "    w = som.winner(xx.to(device))  # getting the winner\n",
    "    # palce a marker on the winning position for the sample xx\n",
    "    plt.plot(w[0]+.5, w[1]+.5, markers[target[cnt]-1], markerfacecolor='None',\n",
    "             markeredgecolor=colors[target[cnt]-1], markersize=12, markeredgewidth=2)\n",
    "\n",
    "plt.show()"
   ]
  },
  {
   "cell_type": "markdown",
   "metadata": {},
   "source": [
    "To have an overview of how the samples are distributed across the map a scatter chart can be used where each dot represents the coordinates of the winning neuron. A random offset is added to avoid overlaps between points within the same cell."
   ]
  },
  {
   "cell_type": "code",
   "execution_count": null,
   "metadata": {},
   "outputs": [],
   "source": [
    "w_x, w_y = zip(*[som.winner(d.to(device)) for d in data])\n",
    "w_x = np.array(w_x)\n",
    "w_y = np.array(w_y)\n",
    "\n",
    "plt.figure(figsize=(10, 9))\n",
    "plt.pcolor(som.distance_map().T.cpu(), cmap='bone_r', alpha=.2)\n",
    "plt.colorbar()\n",
    "\n",
    "for c in np.unique(target):\n",
    "    idx_target = target==c\n",
    "    plt.scatter(w_x[idx_target]+.5+(np.random.rand(np.sum(idx_target))-.5)*.8,\n",
    "                w_y[idx_target]+.5+(np.random.rand(np.sum(idx_target))-.5)*.8, \n",
    "                s=50, c=colors[c-1], label=label_names[c])\n",
    "plt.legend(loc='upper right')\n",
    "plt.grid()\n",
    "plt.savefig('resulting_images/som_seed.png')\n",
    "plt.show()"
   ]
  },
  {
   "cell_type": "markdown",
   "metadata": {},
   "source": [
    "To have an idea of which neurons of the map are activated more often we can create another pseudocolor plot that reflects the activation frequencies:"
   ]
  },
  {
   "cell_type": "code",
   "execution_count": null,
   "metadata": {},
   "outputs": [],
   "source": [
    "plt.figure(figsize=(7, 7))\n",
    "frequencies = som.activation_response(data.to(device))\n",
    "plt.pcolor(frequencies.T.cpu(), cmap='Blues') \n",
    "plt.colorbar()\n",
    "plt.show()"
   ]
  },
  {
   "cell_type": "markdown",
   "metadata": {},
   "source": [
    "When dealing with a supervised problem, one can visualize the proportion of samples per class falling in a specific neuron using a pie chart per neuron:"
   ]
  },
  {
   "cell_type": "code",
   "execution_count": null,
   "metadata": {},
   "outputs": [],
   "source": [
    "import matplotlib.gridspec as gridspec\n",
    "\n",
    "labels_map = som.labels_map(data.to(device), [label_names[t] for t in target])\n",
    "\n",
    "fig = plt.figure(figsize=(9, 9))\n",
    "the_grid = gridspec.GridSpec(n_neurons, m_neurons, fig)\n",
    "for position in labels_map.keys():\n",
    "    label_fracs = [labels_map[position][l] for l in label_names.values()]\n",
    "    plt.subplot(the_grid[n_neurons-1-position[1],\n",
    "                         position[0]], aspect=1)\n",
    "    patches, texts = plt.pie(label_fracs)\n",
    "\n",
    "plt.legend(patches, label_names.values(), bbox_to_anchor=(3.5, 2.5), ncol=3)\n",
    "plt.savefig('resulting_images/som_seed_pies.png')\n",
    "plt.show()"
   ]
  },
  {
   "cell_type": "markdown",
   "metadata": {},
   "source": [
    "To understand how the training evolves we can plot the quantization and topographic error of the SOM at each step. This is particularly important when estimating the number of iterations to run:"
   ]
  },
  {
   "cell_type": "code",
   "execution_count": null,
   "metadata": {},
   "outputs": [],
   "source": [
    "som = MiniSom(10, 20, data.shape[1], sigma=3., learning_rate=.7,\n",
    "              neighborhood_function='gaussian', random_seed=10, device=device)\n",
    "\n",
    "max_iter = 1000\n",
    "q_error = []\n",
    "t_error = []\n",
    "\n",
    "for i in range(max_iter):\n",
    "    rand_i = np.random.randint(len(data))\n",
    "    x = data[rand_i].to(device)\n",
    "    som.update(x, som.winner(x), i, max_iter)\n",
    "    q_error.append(som.quantization_error(data.to(device)).cpu())\n",
    "    t_error.append(som.topographic_error(data.to(device)).cpu())\n",
    "\n",
    "plt.plot(np.arange(max_iter), q_error, label='quantization error')\n",
    "plt.plot(np.arange(max_iter), t_error, label='topographic error')\n",
    "plt.ylabel('error')\n",
    "plt.xlabel('iteration index')\n",
    "plt.legend()\n",
    "plt.show()"
   ]
  },
  {
   "cell_type": "markdown",
   "metadata": {},
   "source": [
    "Notice that in the snippet above we have to run each learning iteration in a for loop and saved the errors in separated lists."
   ]
  }
 ],
 "metadata": {
  "kernelspec": {
   "display_name": "Python 3 (ipykernel)",
   "language": "python",
   "name": "python3"
  },
  "language_info": {
   "codemirror_mode": {
    "name": "ipython",
    "version": 3
   },
   "file_extension": ".py",
   "mimetype": "text/x-python",
   "name": "python",
   "nbconvert_exporter": "python",
   "pygments_lexer": "ipython3",
   "version": "3.10.11"
  }
 },
 "nbformat": 4,
 "nbformat_minor": 4
}
