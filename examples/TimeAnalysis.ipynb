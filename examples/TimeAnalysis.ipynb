{
 "cells": [
  {
   "cell_type": "markdown",
   "metadata": {},
   "source": [
    "# Time Analysis\n",
    "\n",
    "This examples show how fast MiniSom GPU can be when employing CPU and GPU for different topologies.\n",
    "\n",
    "First, let's load a dataset (in this case the famous Iris dataset) and apply normalization:"
   ]
  },
  {
   "cell_type": "code",
   "execution_count": 1,
   "metadata": {},
   "outputs": [
    {
     "name": "stdout",
     "output_type": "stream",
     "text": [
      "Dataset dimension: (7500, 40)\n"
     ]
    }
   ],
   "source": [
    "from time import time\n",
    "from sklearn.datasets import load_iris\n",
    "from minisom_gpu.som import MiniSom\n",
    "from xpysom import XPySom \n",
    "import torch\n",
    "import numpy as np\n",
    "import matplotlib.pyplot as plt\n",
    "import seaborn as sns\n",
    "\n",
    "data, _ = load_iris(return_X_y=True)\n",
    "data = np.tile(data, (50, 10))\n",
    "num_runs = 20\n",
    "device = 'cuda'\n",
    "\n",
    "print(f'Dataset dimension: {data.shape}')"
   ]
  },
  {
   "cell_type": "code",
   "execution_count": 2,
   "metadata": {},
   "outputs": [],
   "source": [
    "\n",
    "X = torch.tensor(data, dtype=torch.float32, device=device)\n",
    "elapsed_time = torch.zeros(num_runs)\n",
    "\n",
    "for i in range(num_runs):\n",
    "    som = MiniSom(70, 70, data.shape[1], sigma=3, learning_rate=0.5, device=device)\n",
    "    start_time = time()\n",
    "    som.pca_weights_init(X)\n",
    "    som.train_random(X, 100, verbose=False)\n",
    "    elapsed_time[i] = time() - start_time\n",
    "\n",
    "elapsed_time = elapsed_time.cpu()"
   ]
  },
  {
   "cell_type": "code",
   "execution_count": null,
   "metadata": {},
   "outputs": [],
   "source": [
    "\n",
    "X = data\n",
    "elapsed_time = np.zeros(num_runs)\n",
    "\n",
    "for i in range(num_runs):\n",
    "    som = XPySom(70, 70, data.shape[1], sigma=3, learning_rate=0.5, xp=np)\n",
    "    start_time = time()\n",
    "    som.pca_weights_init(X)\n",
    "    som.train_random(X, 100, verbose=False)\n",
    "    elapsed_time[i] = time() - start_time"
   ]
  },
  {
   "cell_type": "code",
   "execution_count": null,
   "metadata": {},
   "outputs": [],
   "source": [
    "plt.figure(figsize=(14, 14/1.5))\n",
    "sns.histplot(elapsed_time)"
   ]
  }
 ],
 "metadata": {
  "kernelspec": {
   "display_name": "Python 3",
   "language": "python",
   "name": "python3"
  },
  "language_info": {
   "codemirror_mode": {
    "name": "ipython",
    "version": 3
   },
   "file_extension": ".py",
   "mimetype": "text/x-python",
   "name": "python",
   "nbconvert_exporter": "python",
   "pygments_lexer": "ipython3",
   "version": "3.10.11"
  }
 },
 "nbformat": 4,
 "nbformat_minor": 2
}
