{
 "cells": [
  {
   "cell_type": "markdown",
   "metadata": {},
   "source": [
    "# Time Analysis\n",
    "\n",
    "This examples show how fast MiniSom GPU can be when employing CPU and GPU for different topologies.\n",
    "\n",
    "First, let's load a dataset (in this case the famous Iris dataset) and apply normalization:"
   ]
  },
  {
   "cell_type": "code",
   "execution_count": null,
   "metadata": {},
   "outputs": [],
   "source": [
    "from time import time\n",
    "from sklearn.datasets import load_iris\n",
    "from minisom_gpu.som import MiniSom\n",
    "from xpysom import XPySom \n",
    "import torch\n",
    "import numpy as np\n",
    "import matplotlib.pyplot as plt\n",
    "import seaborn as sns\n",
    "import cupy\n",
    "\n",
    "data, _ = load_iris(return_X_y=True)\n",
    "#data = np.tile(data, (50, 10))\n",
    "num_runs = 2\n",
    "device = torch.device('cpu')\n",
    "\n",
    "width = 70\n",
    "height = 70\n",
    "num_samples = 1000\n",
    "num_features = 20\n",
    "num_epochs = 1\n",
    "\n",
    "print(f'Dataset dimension: {data.shape}')"
   ]
  },
  {
   "cell_type": "code",
   "execution_count": null,
   "metadata": {},
   "outputs": [],
   "source": [
    "\n",
    "# X = torch.tensor(data, dtype=torch.float32)\n",
    "# X = torch.tile(X, (num_samples, num_features))\n",
    "# mem_size_gb = X.element_size() * X.nelement() / 2**30\n",
    "# print(f'Datasize shape: {X.shape[0]:,.0f} x {X.shape[1]:,.0f}')\n",
    "# print(f'Total memory consumption: {mem_size_gb:,.6f} GB')\n",
    "\n",
    "# elapsed_time = torch.zeros(num_runs)\n",
    "\n",
    "# for i in range(num_runs):\n",
    "#     som = MiniSom(width, height, X.shape[1], sigma=3, learning_rate=0.5, device=device)\n",
    "#     start_time = time()\n",
    "#     som.pca_weights_init(X)\n",
    "#     som.train(X, num_epochs, verbose=False, use_epochs=True)\n",
    "#     elapsed_time[i] = time() - start_time\n",
    "\n",
    "# elapsed_time = elapsed_time.cpu()"
   ]
  },
  {
   "cell_type": "code",
   "execution_count": null,
   "metadata": {},
   "outputs": [],
   "source": [
    "\n",
    "X = np.tile(data, (num_samples, num_features))\n",
    "print(f'Datasize shape: {X.shape[0]:,.0f} x {X.shape[1]:,.0f}')\n",
    "elapsed_time = np.zeros(num_runs)\n",
    "\n",
    "for i in range(num_runs):\n",
    "    som = XPySom(width, height, X.shape[1], sigma=3, learning_rate=0.5, xp=cupy)\n",
    "    start_time = time()\n",
    "    som.pca_weights_init(X)\n",
    "    som.train_random(X, num_epochs, verbose=False)\n",
    "    elapsed_time[i] = time() - start_time"
   ]
  },
  {
   "cell_type": "code",
   "execution_count": null,
   "metadata": {},
   "outputs": [],
   "source": [
    "plt.figure(figsize=(14, 14/1.5))\n",
    "sns.histplot(elapsed_time)"
   ]
  }
 ],
 "metadata": {
  "kernelspec": {
   "display_name": "Python 3",
   "language": "python",
   "name": "python3"
  },
  "language_info": {
   "codemirror_mode": {
    "name": "ipython",
    "version": 3
   },
   "file_extension": ".py",
   "mimetype": "text/x-python",
   "name": "python",
   "nbconvert_exporter": "python",
   "pygments_lexer": "ipython3",
   "version": "3.10.11"
  }
 },
 "nbformat": 4,
 "nbformat_minor": 2
}
